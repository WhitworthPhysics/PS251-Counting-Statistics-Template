{
  "nbformat": 4,
  "nbformat_minor": 0,
  "metadata": {
    "colab": {
      "provenance": [],
      "collapsed_sections": [],
      "authorship_tag": "ABX9TyMQoakhpgByTNM3BNT6qfvc"
    },
    "kernelspec": {
      "name": "python3",
      "display_name": "Python 3"
    },
    "language_info": {
      "name": "python"
    }
  },
  "cells": [
    {
      "cell_type": "markdown",
      "metadata": {
        "id": "oBV6DxeRkvUy"
      },
      "source": [
        "Partner: \n",
        "\n",
        "Date: "
      ]
    },
    {
      "cell_type": "markdown",
      "metadata": {
        "id": "LeBMAfnFkydY"
      },
      "source": [
        "# Objectives\n",
        "\n",
        "* fill in"
      ]
    },
    {
      "cell_type": "markdown",
      "metadata": {
        "id": "nR5Mub87leDY"
      },
      "source": [
        "# Equipment and materials\n",
        "| Description | Manufacturer | Model | ID or SN |\n",
        "| ----------- | ------------ | ----- | -------- |\n",
        "| Radiation monitor | Vernier | fill-in | fill in |\n",
        "| Data acquisition device | Vernier | LabPro | fill in |\n",
        "| Sr source| fill in | fill in | --- |\n",
        "| lead bricks | --- | --- | --- |\n",
        "| ring stand and clamps | --- | --- | --- |"
      ]
    },
    {
      "cell_type": "markdown",
      "metadata": {
        "id": "Y4sXa_FulQ7F"
      },
      "source": [
        "# Install and import libraries"
      ]
    },
    {
      "cell_type": "code",
      "metadata": {
        "id": "U7WK9MyEklmQ"
      },
      "source": [
        "!pip install whit-phys-util 1>/dev/null"
      ],
      "execution_count": null,
      "outputs": []
    },
    {
      "cell_type": "code",
      "metadata": {
        "id": "RLslWKj7lVFt"
      },
      "source": [
        "import numpy as np\n",
        "import pandas as pd\n",
        "import matplotlib.pyplot as plt\n",
        "import whit_phys_util as buc\n",
        "from scipy.stats import poisson\n",
        "from scipy.stats import norm"
      ],
      "execution_count": null,
      "outputs": []
    },
    {
      "cell_type": "markdown",
      "metadata": {
        "id": "0PUKJIcAlXzt"
      },
      "source": [
        "# Connect to GitHub"
      ]
    },
    {
      "cell_type": "code",
      "metadata": {
        "id": "aAelGLsulbWt"
      },
      "source": [
        "repo = buc.local_repository(\"replace me\")"
      ],
      "execution_count": null,
      "outputs": []
    },
    {
      "cell_type": "markdown",
      "metadata": {
        "id": "96wpQhSkl-5I"
      },
      "source": [
        "# Import data"
      ]
    },
    {
      "cell_type": "code",
      "metadata": {
        "id": "T1Rgccnbl8XL"
      },
      "source": [
        "repo.pull()"
      ],
      "execution_count": null,
      "outputs": []
    }
  ]
}